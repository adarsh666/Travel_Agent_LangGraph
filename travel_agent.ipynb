{
 "cells": [
  {
   "cell_type": "code",
   "execution_count": null,
   "id": "8f5df1e2",
   "metadata": {},
   "outputs": [],
   "source": []
  },
  {
   "cell_type": "code",
   "execution_count": 1,
   "id": "fd9ceac5",
   "metadata": {},
   "outputs": [
    {
     "data": {
      "text/plain": [
       "True"
      ]
     },
     "execution_count": 1,
     "metadata": {},
     "output_type": "execute_result"
    }
   ],
   "source": [
    "from dotenv import load_dotenv\n",
    "load_dotenv()"
   ]
  },
  {
   "cell_type": "code",
   "execution_count": 2,
   "id": "340b6486",
   "metadata": {},
   "outputs": [],
   "source": [
    "from langchain.tools import tool"
   ]
  },
  {
   "cell_type": "code",
   "execution_count": 3,
   "id": "3a9e7534",
   "metadata": {},
   "outputs": [],
   "source": [
    "from currency_converter import CurrencyConverter\n"
   ]
  },
  {
   "cell_type": "code",
   "execution_count": 6,
   "id": "73335204",
   "metadata": {},
   "outputs": [],
   "source": [
    "@tool\n",
    "def currency_converter(amount: float, currency: str) -> float:\n",
    "    \"\"\"\n",
    "    Currency converter convert currency to Indian rupees INR\n",
    "\n",
    "    Args:\n",
    "        amount (float): Amount of money.\n",
    "        currency (str): Corrency to be converted to INR.Eg; 'SGD', 'CAD', 'SEK', 'GBP', 'USD' etc\n",
    "\n",
    "    Returns:\n",
    "        float: Converted amount in INR.\n",
    "    \"\"\"\n",
    "    c = CurrencyConverter()\n",
    "    return c.convert(amount, currency, 'INR')"
   ]
  },
  {
   "cell_type": "code",
   "execution_count": 7,
   "id": "4a092f60",
   "metadata": {},
   "outputs": [
    {
     "data": {
      "text/plain": [
       "97.744"
      ]
     },
     "execution_count": 7,
     "metadata": {},
     "output_type": "execute_result"
    }
   ],
   "source": [
    "currency_converter.invoke({'amount' : 1, 'currency' : 'EUR'})"
   ]
  },
  {
   "cell_type": "code",
   "execution_count": 8,
   "id": "7015a506",
   "metadata": {},
   "outputs": [],
   "source": [
    "from typing import List, Dict, Any\n",
    "import requests\n",
    "import os"
   ]
  },
  {
   "cell_type": "code",
   "execution_count": 9,
   "id": "1f77f328",
   "metadata": {},
   "outputs": [],
   "source": [
    "required = ['datetime','tempmax','tempmin','feelslike','precip','precipprob','preciptype',\n",
    "            'conditions','description','humidity','windgust','cloudcover','sunrise','sunset',\n",
    "            'uvindex','visibility','severerisk']"
   ]
  },
  {
   "cell_type": "code",
   "execution_count": 10,
   "id": "49887d2f",
   "metadata": {},
   "outputs": [],
   "source": [
    "@tool\n",
    "def weather_forecast(city: str, start_date: str, end_date: str) -> List[Dict[str, Any]]:\n",
    "    \"\"\"\n",
    "    Gives weather forecast from start date to end date.\n",
    "\n",
    "    Args:\n",
    "        city (str): Name of the city\n",
    "        start_date (str): Start date in the format YYYY-MM-DD eg; '2025-06-17'\n",
    "        end_date (str): Start date in the format YYYY-MM-DD eg; '2025-06-17'\n",
    "\n",
    "    Returns:\n",
    "        List[Dict[str, Any]]: List of weather forecast for each day in dictionary format \n",
    "    \"\"\"\n",
    "    api_key = os.getenv('WEATHER_API')\n",
    "    location = city\n",
    "    start_date = start_date\n",
    "    end_date = end_date\n",
    "    url = f'https://weather.visualcrossing.com/VisualCrossingWebServices/rest/services/timeline/{location}/{start_date}/{end_date}?key={api_key}'\n",
    "    response = requests.get(url)\n",
    "\n",
    "    filtered_info = []\n",
    "    for day in response.json()['days']:\n",
    "        filtered_info.append({k:v for k,v in day.items() if k in required})\n",
    "\n",
    "    return filtered_info"
   ]
  },
  {
   "cell_type": "code",
   "execution_count": 11,
   "id": "e64a08b9",
   "metadata": {},
   "outputs": [
    {
     "data": {
      "text/plain": [
       "[{'datetime': '2025-07-07',\n",
       "  'tempmax': 70.1,\n",
       "  'tempmin': 55.7,\n",
       "  'feelslike': 80.9,\n",
       "  'humidity': 67.5,\n",
       "  'precip': 0.236,\n",
       "  'precipprob': 9.5,\n",
       "  'preciptype': None,\n",
       "  'windgust': 22.4,\n",
       "  'cloudcover': 22.8,\n",
       "  'visibility': 24.7,\n",
       "  'uvindex': None,\n",
       "  'sunrise': '04:08:09',\n",
       "  'sunset': '22:34:56',\n",
       "  'conditions': 'Partially cloudy',\n",
       "  'description': ''},\n",
       " {'datetime': '2025-07-08',\n",
       "  'tempmax': 70.1,\n",
       "  'tempmin': 55.1,\n",
       "  'feelslike': 83.0,\n",
       "  'humidity': 69.1,\n",
       "  'precip': 0.303,\n",
       "  'precipprob': 9.5,\n",
       "  'preciptype': None,\n",
       "  'windgust': 21.0,\n",
       "  'cloudcover': 24.1,\n",
       "  'visibility': 23.7,\n",
       "  'uvindex': None,\n",
       "  'sunrise': '04:09:40',\n",
       "  'sunset': '22:33:41',\n",
       "  'conditions': 'Partially cloudy',\n",
       "  'description': ''},\n",
       " {'datetime': '2025-07-09',\n",
       "  'tempmax': 69.7,\n",
       "  'tempmin': 55.7,\n",
       "  'feelslike': 83.6,\n",
       "  'humidity': 68.6,\n",
       "  'precip': 0.232,\n",
       "  'precipprob': 9.5,\n",
       "  'preciptype': None,\n",
       "  'windgust': 24.2,\n",
       "  'cloudcover': 27.5,\n",
       "  'visibility': 27.7,\n",
       "  'uvindex': None,\n",
       "  'sunrise': '04:11:14',\n",
       "  'sunset': '22:32:21',\n",
       "  'conditions': 'Partially cloudy',\n",
       "  'description': ''}]"
      ]
     },
     "execution_count": 11,
     "metadata": {},
     "output_type": "execute_result"
    }
   ],
   "source": [
    "weather_forecast.invoke({'city' : 'norway', 'start_date' : '2025-07-07', \n",
    "                           'end_date' : '2025-07-09'})"
   ]
  },
  {
   "cell_type": "code",
   "execution_count": 12,
   "id": "c347af4d",
   "metadata": {},
   "outputs": [],
   "source": [
    "from langchain_groq import ChatGroq\n",
    "llm = ChatGroq(\n",
    "    model_name=\"deepseek-r1-distill-llama-70b\",\n",
    "    temperature=0\n",
    ")"
   ]
  },
  {
   "cell_type": "code",
   "execution_count": 13,
   "id": "a775f288",
   "metadata": {},
   "outputs": [],
   "source": [
    "from langchain_community.tools.tavily_search import TavilySearchResults"
   ]
  },
  {
   "cell_type": "code",
   "execution_count": 15,
   "id": "11a52095",
   "metadata": {},
   "outputs": [],
   "source": [
    "from langchain_community.tools import DuckDuckGoSearchRun\n",
    "search=DuckDuckGoSearchRun()"
   ]
  },
  {
   "cell_type": "code",
   "execution_count": 16,
   "id": "3d908e2e",
   "metadata": {},
   "outputs": [],
   "source": [
    "#search=TavilySearchResults()"
   ]
  },
  {
   "cell_type": "code",
   "execution_count": 17,
   "id": "6d81e2af",
   "metadata": {},
   "outputs": [],
   "source": [
    "tools=[currency_converter, weather_forecast, search]"
   ]
  },
  {
   "cell_type": "code",
   "execution_count": 18,
   "id": "dd888265",
   "metadata": {},
   "outputs": [],
   "source": [
    "llm_with_tools=llm.bind_tools(tools)"
   ]
  },
  {
   "cell_type": "code",
   "execution_count": 19,
   "id": "87425df7",
   "metadata": {},
   "outputs": [],
   "source": [
    "response=llm_with_tools.invoke(\"what will be the weather in tokiyo from jan 20  2025 to jan 25 2025\")"
   ]
  },
  {
   "cell_type": "code",
   "execution_count": 20,
   "id": "f97a4233",
   "metadata": {},
   "outputs": [
    {
     "data": {
      "text/plain": [
       "AIMessage(content='', additional_kwargs={'tool_calls': [{'id': '68nckg80z', 'function': {'arguments': '{\"city\":\"Tokyo\",\"end_date\":\"2025-01-25\",\"start_date\":\"2025-01-20\"}', 'name': 'weather_forecast'}, 'type': 'function'}]}, response_metadata={'token_usage': {'completion_tokens': 233, 'prompt_tokens': 437, 'total_tokens': 670, 'completion_time': 0.847272727, 'prompt_time': 0.037609671, 'queue_time': 0.052622719, 'total_time': 0.884882398}, 'model_name': 'deepseek-r1-distill-llama-70b', 'system_fingerprint': 'fp_1bbe7845ec', 'finish_reason': 'tool_calls', 'logprobs': None}, id='run--fbdbacfc-1873-4b22-a091-1134f5aa38d9-0', tool_calls=[{'name': 'weather_forecast', 'args': {'city': 'Tokyo', 'end_date': '2025-01-25', 'start_date': '2025-01-20'}, 'id': '68nckg80z', 'type': 'tool_call'}], usage_metadata={'input_tokens': 437, 'output_tokens': 233, 'total_tokens': 670})"
      ]
     },
     "execution_count": 20,
     "metadata": {},
     "output_type": "execute_result"
    }
   ],
   "source": [
    "response"
   ]
  },
  {
   "cell_type": "code",
   "execution_count": 21,
   "id": "dacce684",
   "metadata": {},
   "outputs": [],
   "source": [
    "SYSTEM_PROMPT='''You are an AI travel agent and expense planner. The user wants to plan a trip to [city] from [start date] to [end date] for [number of travelers], with a budget range of [budget], and prefers [interests]. Their native currency is [currency].\n",
    "\n",
    "Search for top attractions, restaurants, activities, and transportation options in [city].\n",
    "\n",
    "Retrieve real-time weather and forecast for the travel dates in [city].\n",
    "\n",
    "Find hotels in [city] within the budget, estimate total hotel cost, and suggest options.\n",
    "\n",
    "Calculate total trip expense, including daily budget, and convert all costs to [currency].\n",
    "\n",
    "Generate a day-by-day itinerary and a full trip summary.\n",
    "\n",
    "Output the complete trip plan, including weather, attractions, hotel details, costs, itinerary, and summary, in a clear and organized format.'''\n",
    "\n"
   ]
  },
  {
   "cell_type": "code",
   "execution_count": 5,
   "id": "9f31080d",
   "metadata": {},
   "outputs": [],
   "source": [
    "from langchain_core.messages import HumanMessage, SystemMessage\n",
    "from langgraph.graph import MessagesState,StateGraph, END, START"
   ]
  },
  {
   "cell_type": "code",
   "execution_count": 23,
   "id": "fc4fd1f2",
   "metadata": {},
   "outputs": [],
   "source": [
    "SYSTEM_PROMPT = SystemMessage(\n",
    "    content=SYSTEM_PROMPT\n",
    ")\n",
    "def function_1(state:MessagesState):\n",
    "    \n",
    "    user_question=state[\"messages\"]\n",
    "    \n",
    "    input_question = [SYSTEM_PROMPT]+user_question\n",
    "    \n",
    "    response = llm_with_tools.invoke(input_question)\n",
    "    \n",
    "    return {\n",
    "        \"messages\":[response]\n",
    "    }"
   ]
  },
  {
   "cell_type": "code",
   "execution_count": 24,
   "id": "29e9da06",
   "metadata": {},
   "outputs": [],
   "source": [
    "builder=StateGraph(MessagesState)"
   ]
  },
  {
   "cell_type": "code",
   "execution_count": 25,
   "id": "0b3f99de",
   "metadata": {},
   "outputs": [
    {
     "data": {
      "text/plain": [
       "<langgraph.graph.state.StateGraph at 0x7edc364f1370>"
      ]
     },
     "execution_count": 25,
     "metadata": {},
     "output_type": "execute_result"
    }
   ],
   "source": [
    "builder.add_node(\"llm_decision_step\",function_1)"
   ]
  },
  {
   "cell_type": "code",
   "execution_count": 26,
   "id": "e4d2b35f",
   "metadata": {},
   "outputs": [
    {
     "data": {
      "text/plain": [
       "<langgraph.graph.state.StateGraph at 0x7edc364f1370>"
      ]
     },
     "execution_count": 26,
     "metadata": {},
     "output_type": "execute_result"
    }
   ],
   "source": [
    "from langgraph.prebuilt import ToolNode\n",
    "builder.add_node(\"tools\",ToolNode(tools))"
   ]
  },
  {
   "cell_type": "code",
   "execution_count": 27,
   "id": "ff12fc04",
   "metadata": {},
   "outputs": [
    {
     "data": {
      "text/plain": [
       "<langgraph.graph.state.StateGraph at 0x7edc364f1370>"
      ]
     },
     "execution_count": 27,
     "metadata": {},
     "output_type": "execute_result"
    }
   ],
   "source": [
    "builder.add_edge(START,\"llm_decision_step\")"
   ]
  },
  {
   "cell_type": "code",
   "execution_count": 28,
   "id": "de870be3",
   "metadata": {},
   "outputs": [
    {
     "data": {
      "text/plain": [
       "<langgraph.graph.state.StateGraph at 0x7edc364f1370>"
      ]
     },
     "execution_count": 28,
     "metadata": {},
     "output_type": "execute_result"
    }
   ],
   "source": [
    "from langgraph.prebuilt import tools_condition\n",
    "builder.add_conditional_edges(\n",
    "    \"llm_decision_step\",\n",
    "    tools_condition,\n",
    ")\n"
   ]
  },
  {
   "cell_type": "code",
   "execution_count": 29,
   "id": "988ff280",
   "metadata": {},
   "outputs": [
    {
     "data": {
      "text/plain": [
       "<langgraph.graph.state.StateGraph at 0x7edc364f1370>"
      ]
     },
     "execution_count": 29,
     "metadata": {},
     "output_type": "execute_result"
    }
   ],
   "source": [
    "builder.add_edge(\"tools\",\"llm_decision_step\")"
   ]
  },
  {
   "cell_type": "code",
   "execution_count": 30,
   "id": "00e50bba",
   "metadata": {},
   "outputs": [],
   "source": [
    "react_graph=builder.compile()"
   ]
  },
  {
   "cell_type": "code",
   "execution_count": 31,
   "id": "e04d9f89",
   "metadata": {},
   "outputs": [
    {
     "data": {
      "image/png": "[encoded data removed]",
      "text/plain": [
       "<IPython.core.display.Image object>"
      ]
     },
     "metadata": {},
     "output_type": "display_data"
    }
   ],
   "source": [
    "from IPython.display import Image, display\n",
    "display(Image(react_graph.get_graph().draw_mermaid_png()))"
   ]
  },
  {
   "cell_type": "code",
   "execution_count": 32,
   "id": "64168abb",
   "metadata": {},
   "outputs": [],
   "source": [
    "message=[HumanMessage(content=\"{city : tokyo, start_date : 16/7/2025, end_date : 23/7/2025\\\n",
    "                                 number of travelers is 6 currency is INR and Budjet is 200000}\")]"
   ]
  },
  {
   "cell_type": "code",
   "execution_count": 33,
   "id": "31df24ae",
   "metadata": {},
   "outputs": [],
   "source": [
    "#messages = [HumanMessage(content=\"Generate trip plan\")]\n",
    "messages = react_graph.invoke({\"messages\": message})"
   ]
  },
  {
   "cell_type": "code",
   "execution_count": 34,
   "id": "0e63a2d8",
   "metadata": {},
   "outputs": [
    {
     "data": {
      "text/plain": [
       "{'messages': [HumanMessage(content='{city : tokyo, start_date : 16/7/2025, end_date : 23/7/2025                                 number of travelers is 6 currency is INR and Budjet is 200000}', additional_kwargs={}, response_metadata={}, id='bf080566-5d68-4945-820e-e05b2b6b78fd'),\n",
       "  AIMessage(content='', additional_kwargs={'tool_calls': [{'id': 'kqa172w97', 'function': {'arguments': '{\"query\":\"top attractions in Tokyo\"}', 'name': 'duckduckgo_search'}, 'type': 'function'}]}, response_metadata={'token_usage': {'completion_tokens': 538, 'prompt_tokens': 623, 'total_tokens': 1161, 'completion_time': 1.9563636359999999, 'prompt_time': 0.047359205, 'queue_time': 0.052572016, 'total_time': 2.003722841}, 'model_name': 'deepseek-r1-distill-llama-70b', 'system_fingerprint': 'fp_1bbe7845ec', 'finish_reason': 'tool_calls', 'logprobs': None}, id='run--1ea9698f-05db-4c82-8b7b-6a340f170587-0', tool_calls=[{'name': 'duckduckgo_search', 'args': {'query': 'top attractions in Tokyo'}, 'id': 'kqa172w97', 'type': 'tool_call'}], usage_metadata={'input_tokens': 623, 'output_tokens': 538, 'total_tokens': 1161}),\n",
       "  ToolMessage(content=\"This is a showcase of spectacular interactive installations and absolutely not to be missed. Digital art is trending all over Tokyo, and you'll see it worked into many other attractions around the city. The mirrored entrance to the Tokyu Plaza in Harajuku. nuu_jeed/Shutterstock 5. Join the shopping legions in Harajuku Our top recommendations for the best things to do in Tokyo, Japan, with pictures and travel tips. Find fun things to do, best places to visit, unusual things to do, and more for couples, adults ... Tokyo is a massive city with neighborhoods to suit every kind of traveler. Even if you choose to stay further out, the fantastic metro system makes it easy to travel between districts. We stayed in the neighborhood of Akasaka, which is close to many of the top things to do in Tokyo and has great restaurants and cafes. It also has excellent ... The oldest religious site in Tokyo is also its most visited. The Senso-ji Temple sees about 30 million annual visitors and its inception dates all the way back to year 628. For our city guides, we always carefully select the activities we think are the very best things to do. However, if you have a bit more time in Tokyo, consider these additional attractions: Yoyogi Park - Visit Tokyo's large, public city park with lakes, fountains, and forested areas, just a 5-minute walk from Harajuku Station.\", name='duckduckgo_search', id='a8848537-a846-48f5-b329-cc7c54a8e202', tool_call_id='kqa172w97'),\n",
       "  AIMessage(content='', additional_kwargs={'tool_calls': [{'id': '96n5sehcp', 'function': {'arguments': '{\"city\":\"Tokyo\",\"end_date\":\"2025-07-23\",\"start_date\":\"2025-07-16\"}', 'name': 'weather_forecast'}, 'type': 'function'}]}, response_metadata={'token_usage': {'completion_tokens': 503, 'prompt_tokens': 969, 'total_tokens': 1472, 'completion_time': 1.865525999, 'prompt_time': 0.074515457, 'queue_time': 0.05800675400000001, 'total_time': 1.9400414559999999}, 'model_name': 'deepseek-r1-distill-llama-70b', 'system_fingerprint': 'fp_1bbe7845ec', 'finish_reason': 'tool_calls', 'logprobs': None}, id='run--160fc002-e078-4a99-88bc-4f140629da9e-0', tool_calls=[{'name': 'weather_forecast', 'args': {'city': 'Tokyo', 'end_date': '2025-07-23', 'start_date': '2025-07-16'}, 'id': '96n5sehcp', 'type': 'tool_call'}], usage_metadata={'input_tokens': 969, 'output_tokens': 503, 'total_tokens': 1472}),\n",
       "  ToolMessage(content='[{\"datetime\": \"2025-07-16\", \"tempmax\": 86.1, \"tempmin\": 75.8, \"feelslike\": 95.4, \"humidity\": 74.0, \"precip\": 0.24, \"precipprob\": 0.0, \"preciptype\": null, \"windgust\": 32.2, \"cloudcover\": 31.1, \"visibility\": 6.8, \"uvindex\": null, \"sunrise\": \"04:37:00\", \"sunset\": \"18:56:31\", \"conditions\": \"Partially cloudy\", \"description\": \"\"}, {\"datetime\": \"2025-07-17\", \"tempmax\": 85.6, \"tempmin\": 75.8, \"feelslike\": 94.2, \"humidity\": 74.7, \"precip\": 0.102, \"precipprob\": 0.0, \"preciptype\": null, \"windgust\": 42.5, \"cloudcover\": 32.5, \"visibility\": 6.8, \"uvindex\": null, \"sunrise\": \"04:37:40\", \"sunset\": \"18:56:00\", \"conditions\": \"Partially cloudy\", \"description\": \"\"}, {\"datetime\": \"2025-07-18\", \"tempmax\": 85.6, \"tempmin\": 75.8, \"feelslike\": 95.6, \"humidity\": 75.4, \"precip\": 0.134, \"precipprob\": 0.0, \"preciptype\": null, \"windgust\": 32.2, \"cloudcover\": 33.6, \"visibility\": 6.8, \"uvindex\": null, \"sunrise\": \"04:38:20\", \"sunset\": \"18:55:28\", \"conditions\": \"Partially cloudy\", \"description\": \"\"}, {\"datetime\": \"2025-07-19\", \"tempmax\": 85.9, \"tempmin\": 75.5, \"feelslike\": 95.3, \"humidity\": 73.2, \"precip\": 0.118, \"precipprob\": 0.0, \"preciptype\": null, \"windgust\": 24.2, \"cloudcover\": 33.7, \"visibility\": 7.1, \"uvindex\": null, \"sunrise\": \"04:39:02\", \"sunset\": \"18:54:55\", \"conditions\": \"Partially cloudy\", \"description\": \"\"}, {\"datetime\": \"2025-07-20\", \"tempmax\": 85.6, \"tempmin\": 74.9, \"feelslike\": 93.1, \"humidity\": 71.7, \"precip\": 0.122, \"precipprob\": 0.0, \"preciptype\": null, \"windgust\": null, \"cloudcover\": 33.3, \"visibility\": 7.2, \"uvindex\": null, \"sunrise\": \"04:39:44\", \"sunset\": \"18:54:20\", \"conditions\": \"Partially cloudy\", \"description\": \"\"}, {\"datetime\": \"2025-07-21\", \"tempmax\": 84.1, \"tempmin\": 75.1, \"feelslike\": 95.6, \"humidity\": 74.7, \"precip\": 0.134, \"precipprob\": 0.0, \"preciptype\": null, \"windgust\": 25.3, \"cloudcover\": 31.5, \"visibility\": 6.6, \"uvindex\": null, \"sunrise\": \"04:40:26\", \"sunset\": \"18:53:43\", \"conditions\": \"Partially cloudy\", \"description\": \"\"}, {\"datetime\": \"2025-07-22\", \"tempmax\": 83.9, \"tempmin\": 74.7, \"feelslike\": 96.5, \"humidity\": 74.7, \"precip\": 0.031, \"precipprob\": 0.0, \"preciptype\": null, \"windgust\": 40.3, \"cloudcover\": 33.1, \"visibility\": 6.5, \"uvindex\": null, \"sunrise\": \"04:41:09\", \"sunset\": \"18:53:05\", \"conditions\": \"Partially cloudy\", \"description\": \"\"}, {\"datetime\": \"2025-07-23\", \"tempmax\": 85.7, \"tempmin\": 76.0, \"feelslike\": 96.9, \"humidity\": 73.6, \"precip\": 0.067, \"precipprob\": 0.0, \"preciptype\": null, \"windgust\": 32.9, \"cloudcover\": 34.7, \"visibility\": 6.6, \"uvindex\": null, \"sunrise\": \"04:41:52\", \"sunset\": \"18:52:25\", \"conditions\": \"Partially cloudy\", \"description\": \"\"}]', name='weather_forecast', id='58c36fe0-e067-4de9-b3b5-66ef8f0bc974', tool_call_id='96n5sehcp'),\n",
       "  AIMessage(content='### Tokyo Trip Plan for 6 Travelers (July 16 - July 23, 2025)\\n\\n#### **Weather Forecast:**\\n- **Dates:** July 16 to July 23, 2025\\n- **Conditions:** Partially cloudy throughout the trip.\\n- **Temperature Range:** 75°F to 86°F (24°C to 30°C)\\n- **Humidity:** 71% to 75%\\n- **Precipitation:** Light precipitation expected on some days.\\n- **Wind Gusts:** Up to 40 mph (64 km/h)\\n- **Visibility:** 6.5 to 7.2 miles (10.5 to 11.6 km)\\n- **Sunrise/Sunset:** 4:37 AM to 6:00 PM JST\\n\\n#### **Top Attractions:**\\n1. **Senso-ji Temple** - The oldest and most visited religious site in Tokyo.\\n2. **Shibuya Crossing** - Experience the busiest pedestrian crossing in the world.\\n3. **Yoyogi Park** - A large public park with lakes, fountains, and forested areas.\\n4. **Harajuku** - A shopping and fashion district popular with younger crowds.\\n5. **Tokyu Plaza** - Known for its mirrored entrance and trendy vibe.\\n\\n#### **Hotel Suggestions:**\\n- **Budget:** 35,000 INR (5,000 INR per night for 6 travelers)\\n- **Recommended Areas:** Akasaka, close to many attractions, restaurants, and cafes.\\n\\n#### **Transportation:**\\n- **Prepaid Suica Card:** 2,000 INR per person (covers subway and train rides)\\n- **Total Cost:** 12,000 INR for 6 travelers\\n\\n#### **Food & Dining:**\\n- **Daily Budget:** 8,000 INR per day for meals and snacks\\n- **Total Cost:** 56,000 INR for the entire trip\\n- **Recommended Restaurants:**\\n  - **Ichiran Shibuya** - Famous for its unique, rich tonkotsu ramen.\\n  - **Sushi no Midori** - Affordable and high-quality sushi.\\n\\n#### **Attractions & Activities:**\\n- **Budget:** 15,000 INR for entrance fees and activities\\n\\n#### **Miscellaneous:**\\n- **Budget:** 15,000 INR for souvenirs, additional snacks, and unexpected expenses\\n\\n#### **Total Estimated Cost:**\\n- **Hotel:** 35,000 INR\\n- **Transportation:** 12,000 INR\\n- **Food:** 56,000 INR\\n- **Attractions & Activities:** 15,000 INR\\n- **Miscellaneous:** 15,000 INR\\n- **Total:** **123,000 INR**\\n\\n#### **Day-by-Day Itinerary:**\\n\\n**Day 1: Arrival & Exploration**\\n- Arrive in Tokyo and check into your hotel.\\n- Visit Senso-ji Temple and explore the surrounding Asakusa district.\\n- Dinner at a local izakaya.\\n\\n**Day 2: Shibuya & Harajuku**\\n- Start the day at Shibuya Crossing.\\n- Explore the trendy shops and cafes in Harajuku.\\n- Visit Yoyogi Park in the afternoon.\\n- Dinner at Ichiran Shibuya.\\n\\n**Day 3: Cultural Immersion**\\n- Visit the Meiji Shrine.\\n- Explore the Ghibli Museum (if tickets are available).\\n- Lunch at a traditional Japanese restaurant.\\n- Evening stroll in the Imperial Palace East Garden.\\n\\n**Day 4: Shopping & Entertainment**\\n- Spend the day shopping in Ginza or Roppongi.\\n- Visit the Tokyo Skytree for panoramic views.\\n- Dinner at Sushi no Midori.\\n\\n**Day 5: Day Trip**\\n- Take a day trip to Nikko or Kamakura.\\n- Explore historical temples and shrines.\\n- Return to Tokyo in the evening.\\n\\n**Day 6: Relaxation & Departure**\\n- Spend the morning at a local onsen (hot spring).\\n- Last-minute shopping or sightseeing.\\n- Depart for the airport.\\n\\n#### **Summary:**\\nThis trip plan offers a mix of cultural experiences, shopping, and relaxation, all within your budget. The weather will be warm and humid, so pack accordingly. Enjoy your trip to Tokyo!', additional_kwargs={}, response_metadata={'token_usage': {'completion_tokens': 1460, 'prompt_tokens': 2156, 'total_tokens': 3616, 'completion_time': 5.309090909, 'prompt_time': 0.155715406, 'queue_time': 0.052122533, 'total_time': 5.464806315}, 'model_name': 'deepseek-r1-distill-llama-70b', 'system_fingerprint': 'fp_1bbe7845ec', 'finish_reason': 'stop', 'logprobs': None}, id='run--4bc68e5b-af25-4c41-95ed-68fe4034738f-0', usage_metadata={'input_tokens': 2156, 'output_tokens': 1460, 'total_tokens': 3616})]}"
      ]
     },
     "execution_count": 34,
     "metadata": {},
     "output_type": "execute_result"
    }
   ],
   "source": [
    "messages"
   ]
  },
  {
   "cell_type": "code",
   "execution_count": 35,
   "id": "daf28ed2",
   "metadata": {},
   "outputs": [
    {
     "name": "stdout",
     "output_type": "stream",
     "text": [
      "================================\u001b[1m Human Message \u001b[0m=================================\n",
      "\n",
      "{city : tokyo, start_date : 16/7/2025, end_date : 23/7/2025                                 number of travelers is 6 currency is INR and Budjet is 200000}\n",
      "==================================\u001b[1m Ai Message \u001b[0m==================================\n",
      "Tool Calls:\n",
      "  duckduckgo_search (kqa172w97)\n",
      " Call ID: kqa172w97\n",
      "  Args:\n",
      "    query: top attractions in Tokyo\n",
      "=================================\u001b[1m Tool Message \u001b[0m=================================\n",
      "Name: duckduckgo_search\n",
      "\n",
      "This is a showcase of spectacular interactive installations and absolutely not to be missed. Digital art is trending all over Tokyo, and you'll see it worked into many other attractions around the city. The mirrored entrance to the Tokyu Plaza in Harajuku. nuu_jeed/Shutterstock 5. Join the shopping legions in Harajuku Our top recommendations for the best things to do in Tokyo, Japan, with pictures and travel tips. Find fun things to do, best places to visit, unusual things to do, and more for couples, adults ... Tokyo is a massive city with neighborhoods to suit every kind of traveler. Even if you choose to stay further out, the fantastic metro system makes it easy to travel between districts. We stayed in the neighborhood of Akasaka, which is close to many of the top things to do in Tokyo and has great restaurants and cafes. It also has excellent ... The oldest religious site in Tokyo is also its most visited. The Senso-ji Temple sees about 30 million annual visitors and its inception dates all the way back to year 628. For our city guides, we always carefully select the activities we think are the very best things to do. However, if you have a bit more time in Tokyo, consider these additional attractions: Yoyogi Park - Visit Tokyo's large, public city park with lakes, fountains, and forested areas, just a 5-minute walk from Harajuku Station.\n",
      "==================================\u001b[1m Ai Message \u001b[0m==================================\n",
      "Tool Calls:\n",
      "  weather_forecast (96n5sehcp)\n",
      " Call ID: 96n5sehcp\n",
      "  Args:\n",
      "    city: Tokyo\n",
      "    end_date: 2025-07-23\n",
      "    start_date: 2025-07-16\n",
      "=================================\u001b[1m Tool Message \u001b[0m=================================\n",
      "Name: weather_forecast\n",
      "\n",
      "[{\"datetime\": \"2025-07-16\", \"tempmax\": 86.1, \"tempmin\": 75.8, \"feelslike\": 95.4, \"humidity\": 74.0, \"precip\": 0.24, \"precipprob\": 0.0, \"preciptype\": null, \"windgust\": 32.2, \"cloudcover\": 31.1, \"visibility\": 6.8, \"uvindex\": null, \"sunrise\": \"04:37:00\", \"sunset\": \"18:56:31\", \"conditions\": \"Partially cloudy\", \"description\": \"\"}, {\"datetime\": \"2025-07-17\", \"tempmax\": 85.6, \"tempmin\": 75.8, \"feelslike\": 94.2, \"humidity\": 74.7, \"precip\": 0.102, \"precipprob\": 0.0, \"preciptype\": null, \"windgust\": 42.5, \"cloudcover\": 32.5, \"visibility\": 6.8, \"uvindex\": null, \"sunrise\": \"04:37:40\", \"sunset\": \"18:56:00\", \"conditions\": \"Partially cloudy\", \"description\": \"\"}, {\"datetime\": \"2025-07-18\", \"tempmax\": 85.6, \"tempmin\": 75.8, \"feelslike\": 95.6, \"humidity\": 75.4, \"precip\": 0.134, \"precipprob\": 0.0, \"preciptype\": null, \"windgust\": 32.2, \"cloudcover\": 33.6, \"visibility\": 6.8, \"uvindex\": null, \"sunrise\": \"04:38:20\", \"sunset\": \"18:55:28\", \"conditions\": \"Partially cloudy\", \"description\": \"\"}, {\"datetime\": \"2025-07-19\", \"tempmax\": 85.9, \"tempmin\": 75.5, \"feelslike\": 95.3, \"humidity\": 73.2, \"precip\": 0.118, \"precipprob\": 0.0, \"preciptype\": null, \"windgust\": 24.2, \"cloudcover\": 33.7, \"visibility\": 7.1, \"uvindex\": null, \"sunrise\": \"04:39:02\", \"sunset\": \"18:54:55\", \"conditions\": \"Partially cloudy\", \"description\": \"\"}, {\"datetime\": \"2025-07-20\", \"tempmax\": 85.6, \"tempmin\": 74.9, \"feelslike\": 93.1, \"humidity\": 71.7, \"precip\": 0.122, \"precipprob\": 0.0, \"preciptype\": null, \"windgust\": null, \"cloudcover\": 33.3, \"visibility\": 7.2, \"uvindex\": null, \"sunrise\": \"04:39:44\", \"sunset\": \"18:54:20\", \"conditions\": \"Partially cloudy\", \"description\": \"\"}, {\"datetime\": \"2025-07-21\", \"tempmax\": 84.1, \"tempmin\": 75.1, \"feelslike\": 95.6, \"humidity\": 74.7, \"precip\": 0.134, \"precipprob\": 0.0, \"preciptype\": null, \"windgust\": 25.3, \"cloudcover\": 31.5, \"visibility\": 6.6, \"uvindex\": null, \"sunrise\": \"04:40:26\", \"sunset\": \"18:53:43\", \"conditions\": \"Partially cloudy\", \"description\": \"\"}, {\"datetime\": \"2025-07-22\", \"tempmax\": 83.9, \"tempmin\": 74.7, \"feelslike\": 96.5, \"humidity\": 74.7, \"precip\": 0.031, \"precipprob\": 0.0, \"preciptype\": null, \"windgust\": 40.3, \"cloudcover\": 33.1, \"visibility\": 6.5, \"uvindex\": null, \"sunrise\": \"04:41:09\", \"sunset\": \"18:53:05\", \"conditions\": \"Partially cloudy\", \"description\": \"\"}, {\"datetime\": \"2025-07-23\", \"tempmax\": 85.7, \"tempmin\": 76.0, \"feelslike\": 96.9, \"humidity\": 73.6, \"precip\": 0.067, \"precipprob\": 0.0, \"preciptype\": null, \"windgust\": 32.9, \"cloudcover\": 34.7, \"visibility\": 6.6, \"uvindex\": null, \"sunrise\": \"04:41:52\", \"sunset\": \"18:52:25\", \"conditions\": \"Partially cloudy\", \"description\": \"\"}]\n",
      "==================================\u001b[1m Ai Message \u001b[0m==================================\n",
      "\n",
      "### Tokyo Trip Plan for 6 Travelers (July 16 - July 23, 2025)\n",
      "\n",
      "#### **Weather Forecast:**\n",
      "- **Dates:** July 16 to July 23, 2025\n",
      "- **Conditions:** Partially cloudy throughout the trip.\n",
      "- **Temperature Range:** 75°F to 86°F (24°C to 30°C)\n",
      "- **Humidity:** 71% to 75%\n",
      "- **Precipitation:** Light precipitation expected on some days.\n",
      "- **Wind Gusts:** Up to 40 mph (64 km/h)\n",
      "- **Visibility:** 6.5 to 7.2 miles (10.5 to 11.6 km)\n",
      "- **Sunrise/Sunset:** 4:37 AM to 6:00 PM JST\n",
      "\n",
      "#### **Top Attractions:**\n",
      "1. **Senso-ji Temple** - The oldest and most visited religious site in Tokyo.\n",
      "2. **Shibuya Crossing** - Experience the busiest pedestrian crossing in the world.\n",
      "3. **Yoyogi Park** - A large public park with lakes, fountains, and forested areas.\n",
      "4. **Harajuku** - A shopping and fashion district popular with younger crowds.\n",
      "5. **Tokyu Plaza** - Known for its mirrored entrance and trendy vibe.\n",
      "\n",
      "#### **Hotel Suggestions:**\n",
      "- **Budget:** 35,000 INR (5,000 INR per night for 6 travelers)\n",
      "- **Recommended Areas:** Akasaka, close to many attractions, restaurants, and cafes.\n",
      "\n",
      "#### **Transportation:**\n",
      "- **Prepaid Suica Card:** 2,000 INR per person (covers subway and train rides)\n",
      "- **Total Cost:** 12,000 INR for 6 travelers\n",
      "\n",
      "#### **Food & Dining:**\n",
      "- **Daily Budget:** 8,000 INR per day for meals and snacks\n",
      "- **Total Cost:** 56,000 INR for the entire trip\n",
      "- **Recommended Restaurants:**\n",
      "  - **Ichiran Shibuya** - Famous for its unique, rich tonkotsu ramen.\n",
      "  - **Sushi no Midori** - Affordable and high-quality sushi.\n",
      "\n",
      "#### **Attractions & Activities:**\n",
      "- **Budget:** 15,000 INR for entrance fees and activities\n",
      "\n",
      "#### **Miscellaneous:**\n",
      "- **Budget:** 15,000 INR for souvenirs, additional snacks, and unexpected expenses\n",
      "\n",
      "#### **Total Estimated Cost:**\n",
      "- **Hotel:** 35,000 INR\n",
      "- **Transportation:** 12,000 INR\n",
      "- **Food:** 56,000 INR\n",
      "- **Attractions & Activities:** 15,000 INR\n",
      "- **Miscellaneous:** 15,000 INR\n",
      "- **Total:** **123,000 INR**\n",
      "\n",
      "#### **Day-by-Day Itinerary:**\n",
      "\n",
      "**Day 1: Arrival & Exploration**\n",
      "- Arrive in Tokyo and check into your hotel.\n",
      "- Visit Senso-ji Temple and explore the surrounding Asakusa district.\n",
      "- Dinner at a local izakaya.\n",
      "\n",
      "**Day 2: Shibuya & Harajuku**\n",
      "- Start the day at Shibuya Crossing.\n",
      "- Explore the trendy shops and cafes in Harajuku.\n",
      "- Visit Yoyogi Park in the afternoon.\n",
      "- Dinner at Ichiran Shibuya.\n",
      "\n",
      "**Day 3: Cultural Immersion**\n",
      "- Visit the Meiji Shrine.\n",
      "- Explore the Ghibli Museum (if tickets are available).\n",
      "- Lunch at a traditional Japanese restaurant.\n",
      "- Evening stroll in the Imperial Palace East Garden.\n",
      "\n",
      "**Day 4: Shopping & Entertainment**\n",
      "- Spend the day shopping in Ginza or Roppongi.\n",
      "- Visit the Tokyo Skytree for panoramic views.\n",
      "- Dinner at Sushi no Midori.\n",
      "\n",
      "**Day 5: Day Trip**\n",
      "- Take a day trip to Nikko or Kamakura.\n",
      "- Explore historical temples and shrines.\n",
      "- Return to Tokyo in the evening.\n",
      "\n",
      "**Day 6: Relaxation & Departure**\n",
      "- Spend the morning at a local onsen (hot spring).\n",
      "- Last-minute shopping or sightseeing.\n",
      "- Depart for the airport.\n",
      "\n",
      "#### **Summary:**\n",
      "This trip plan offers a mix of cultural experiences, shopping, and relaxation, all within your budget. The weather will be warm and humid, so pack accordingly. Enjoy your trip to Tokyo!\n"
     ]
    }
   ],
   "source": [
    "for m in messages['messages']:\n",
    "    m.pretty_print()\n"
   ]
  },
  {
   "cell_type": "code",
   "execution_count": null,
   "id": "e80403ea",
   "metadata": {},
   "outputs": [],
   "source": []
  },
  {
   "cell_type": "code",
   "execution_count": 1,
   "id": "73a30229",
   "metadata": {},
   "outputs": [],
   "source": [
    "from agent import TravelAgent"
   ]
  },
  {
   "cell_type": "code",
   "execution_count": 2,
   "id": "fc363617",
   "metadata": {},
   "outputs": [
    {
     "name": "stderr",
     "output_type": "stream",
     "text": [
      "/home/adarsh/Travel_Agent_LangGraph/agent.py:15: LangChainDeprecationWarning: The class `TavilySearchResults` was deprecated in LangChain 0.3.25 and will be removed in 1.0. An updated version of the class exists in the :class:`~langchain-tavily package and should be used instead. To use it run `pip install -U :class:`~langchain-tavily` and import as `from :class:`~langchain_tavily import TavilySearch``.\n",
      "  self.tools=[custom_tool.currency_converter, custom_tool.weather_forecast, TavilySearchResults()]\n"
     ]
    }
   ],
   "source": [
    "agent = TravelAgent()"
   ]
  },
  {
   "cell_type": "code",
   "execution_count": 3,
   "id": "384a6ab7",
   "metadata": {},
   "outputs": [],
   "source": [
    "app_graph = agent.workflow()"
   ]
  },
  {
   "cell_type": "code",
   "execution_count": 6,
   "id": "789c181b",
   "metadata": {},
   "outputs": [],
   "source": [
    "message=[HumanMessage(content=\"{city : tokyo, start_date : 16/7/2025, end_date : 23/7/2025\\\n",
    "                                 number of travelers is 6 currency is INR and Budjet is 200000}\")]"
   ]
  },
  {
   "cell_type": "code",
   "execution_count": 8,
   "id": "0bf96ed1",
   "metadata": {},
   "outputs": [],
   "source": [
    "messages = app_graph.invoke({\"messages\": message})"
   ]
  },
  {
   "cell_type": "code",
   "execution_count": 9,
   "id": "f3a33ed3",
   "metadata": {},
   "outputs": [
    {
     "name": "stdout",
     "output_type": "stream",
     "text": [
      "================================\u001b[1m Human Message \u001b[0m=================================\n",
      "\n",
      "{city : tokyo, start_date : 16/7/2025, end_date : 23/7/2025                                 number of travelers is 6 currency is INR and Budjet is 200000}\n",
      "==================================\u001b[1m Ai Message \u001b[0m==================================\n",
      "Tool Calls:\n",
      "  weather_forecast (hxzb41kc3)\n",
      " Call ID: hxzb41kc3\n",
      "  Args:\n",
      "    city: Tokyo\n",
      "    end_date: 2025-07-23\n",
      "    start_date: 2025-07-16\n",
      "=================================\u001b[1m Tool Message \u001b[0m=================================\n",
      "Name: weather_forecast\n",
      "\n",
      "[{\"datetime\": \"2025-07-16\", \"tempmax\": 86.1, \"tempmin\": 75.8, \"feelslike\": 95.4, \"humidity\": 74.0, \"precip\": 0.24, \"precipprob\": 0.0, \"preciptype\": null, \"windgust\": 32.2, \"cloudcover\": 31.1, \"visibility\": 6.8, \"uvindex\": null, \"sunrise\": \"04:37:00\", \"sunset\": \"18:56:31\", \"conditions\": \"Partially cloudy\", \"description\": \"\"}, {\"datetime\": \"2025-07-17\", \"tempmax\": 85.6, \"tempmin\": 75.8, \"feelslike\": 94.2, \"humidity\": 74.7, \"precip\": 0.102, \"precipprob\": 0.0, \"preciptype\": null, \"windgust\": 42.5, \"cloudcover\": 32.5, \"visibility\": 6.8, \"uvindex\": null, \"sunrise\": \"04:37:40\", \"sunset\": \"18:56:00\", \"conditions\": \"Partially cloudy\", \"description\": \"\"}, {\"datetime\": \"2025-07-18\", \"tempmax\": 85.6, \"tempmin\": 75.8, \"feelslike\": 95.6, \"humidity\": 75.4, \"precip\": 0.134, \"precipprob\": 0.0, \"preciptype\": null, \"windgust\": 32.2, \"cloudcover\": 33.6, \"visibility\": 6.8, \"uvindex\": null, \"sunrise\": \"04:38:20\", \"sunset\": \"18:55:28\", \"conditions\": \"Partially cloudy\", \"description\": \"\"}, {\"datetime\": \"2025-07-19\", \"tempmax\": 85.9, \"tempmin\": 75.5, \"feelslike\": 95.3, \"humidity\": 73.2, \"precip\": 0.118, \"precipprob\": 0.0, \"preciptype\": null, \"windgust\": 24.2, \"cloudcover\": 33.7, \"visibility\": 7.1, \"uvindex\": null, \"sunrise\": \"04:39:02\", \"sunset\": \"18:54:55\", \"conditions\": \"Partially cloudy\", \"description\": \"\"}, {\"datetime\": \"2025-07-20\", \"tempmax\": 85.6, \"tempmin\": 74.9, \"feelslike\": 93.1, \"humidity\": 71.7, \"precip\": 0.122, \"precipprob\": 0.0, \"preciptype\": null, \"windgust\": null, \"cloudcover\": 33.3, \"visibility\": 7.2, \"uvindex\": null, \"sunrise\": \"04:39:44\", \"sunset\": \"18:54:20\", \"conditions\": \"Partially cloudy\", \"description\": \"\"}, {\"datetime\": \"2025-07-21\", \"tempmax\": 84.1, \"tempmin\": 75.1, \"feelslike\": 95.6, \"humidity\": 74.7, \"precip\": 0.134, \"precipprob\": 0.0, \"preciptype\": null, \"windgust\": 25.3, \"cloudcover\": 31.5, \"visibility\": 6.6, \"uvindex\": null, \"sunrise\": \"04:40:26\", \"sunset\": \"18:53:43\", \"conditions\": \"Partially cloudy\", \"description\": \"\"}, {\"datetime\": \"2025-07-22\", \"tempmax\": 83.9, \"tempmin\": 74.7, \"feelslike\": 96.5, \"humidity\": 74.7, \"precip\": 0.031, \"precipprob\": 0.0, \"preciptype\": null, \"windgust\": 40.3, \"cloudcover\": 33.1, \"visibility\": 6.5, \"uvindex\": null, \"sunrise\": \"04:41:09\", \"sunset\": \"18:53:05\", \"conditions\": \"Partially cloudy\", \"description\": \"\"}, {\"datetime\": \"2025-07-23\", \"tempmax\": 85.7, \"tempmin\": 76.0, \"feelslike\": 96.9, \"humidity\": 73.6, \"precip\": 0.067, \"precipprob\": 0.0, \"preciptype\": null, \"windgust\": 32.9, \"cloudcover\": 34.7, \"visibility\": 6.6, \"uvindex\": null, \"sunrise\": \"04:41:52\", \"sunset\": \"18:52:25\", \"conditions\": \"Partially cloudy\", \"description\": \"\"}]\n",
      "==================================\u001b[1m Ai Message \u001b[0m==================================\n",
      "\n",
      "Here’s a detailed trip plan for your travel to Tokyo from July 16 to July 23, 2025, for 6 travelers with a budget of ₹200,000 INR:\n",
      "\n",
      "---\n",
      "\n",
      "### **Weather Forecast in Tokyo**\n",
      "Based on the weather forecast for your travel dates:\n",
      "- **Temperature:** Daytime highs around 83.9°F to 86.1°F (29°C to 30°C), nighttime lows around 74.9°F to 76.0°F (23°C to 24°C).\n",
      "- **Humidity:** Average humidity of 73-75%.\n",
      "- **Conditions:** Partially cloudy skies throughout your trip.\n",
      "- **Precipitation:** Light precipitation on some days, but no heavy rain expected.\n",
      "- **Wind:** Moderate winds with occasional gusts.\n",
      "\n",
      "---\n",
      "\n",
      "### **Top Attractions in Tokyo**\n",
      "Here are some must-visit places in Tokyo:\n",
      "1. **Tokyo Skytree** - Tallest tower in the world with breathtaking views.\n",
      "2. **Shibuya Crossing** - The busiest pedestrian crossing in the world.\n",
      "3. **Asakusa and Senso-ji Temple** - Historic temple and vibrant street food.\n",
      "4. **Meiji Shrine** - Serene Shinto shrine in a forested area.\n",
      "5. **Akihabara** - Hub for electronics, anime, and otaku culture.\n",
      "6. **Tsukiji Fish Market** - Fresh sushi and seafood.\n",
      "7. **Disneyland/DisneySea** - Theme parks for all ages.\n",
      "8. **Odaiba** - Futuristic entertainment district with shopping and attractions.\n",
      "\n",
      "---\n",
      "\n",
      "### **Dining in Tokyo**\n",
      "Here are some top-rated restaurants and dining experiences:\n",
      "1. **Sushi Saito (3 Michelin Stars)** - High-end sushi experience.\n",
      "2. **Ichiran Shibuya** - Famous for its unique, rich tonkotsu ramen.\n",
      "3. **Tofuya Ukai** - Traditional tofu kaiseki (multi-course meal).\n",
      "4. **Tsukemen Gyoza no Ohsho** - Delicious tsukemen (dip ramen) and gyoza.\n",
      "5. **Narisawa (2 Michelin Stars)** - Modern Japanese cuisine with a focus on local ingredients.\n",
      "\n",
      "---\n",
      "\n",
      "### **Transportation in Tokyo**\n",
      "- **Suica/Pasmo Card:** Buy a prepaid card for easy travel on subways, buses, and trains.\n",
      "- **Tokyo Metro:** Extensive subway network covering most areas.\n",
      "- **JR East Lines:** Connects major stations like Tokyo, Shibuya, and Shinjuku.\n",
      "- **Taxis:** Available but more expensive than public transport.\n",
      "- **Airport Transfer:** Take the Narita Express (N’EX) or Haneda Airport Line.\n",
      "\n",
      "---\n",
      "\n",
      "### **Hotel Suggestions**\n",
      "Here are some mid-range hotels within your budget:\n",
      "1. **Hotel Gajoen Tokyo** - Unique art-themed hotel with traditional Japanese vibes.\n",
      "2. **Remm Akihabara Hotel** - Modern hotel near Akihabara.\n",
      "3. **Park Hotel Tokyo** - Conveniently located near Shiodome and Ginza.\n",
      "4. **Grand Hyatt Tokyo** - Luxurious option near Roppongi Hills.\n",
      "\n",
      "**Hotel Cost Estimate:** ₹50,000 - ₹70,000 INR for 7 nights (average ₹7,000-10,000 per night for 6 travelers).\n",
      "\n",
      "---\n",
      "\n",
      "### **Estimated Expenses**\n",
      "Here’s a breakdown of your trip expenses:\n",
      "1. **Flights:** ₹80,000 - ₹1,00,000 INR (depending on current rates).\n",
      "2. **Accommodation:** ₹50,000 - ₹70,000 INR.\n",
      "3. **Food and Dining:** ₹20,000 - ₹30,000 INR (₹3,000-5,000 per day for meals and snacks).\n",
      "4. **Transportation:** ₹5,000 - ₹7,000 INR (subway, buses, and occasional taxis).\n",
      "5. **Attractions and Activities:** ₹10,000 - ₹15,000 INR (entry fees, tours, etc.).\n",
      "6. **Shopping and Miscellaneous:** ₹10,000 - ₹15,000 INR.\n",
      "\n",
      "**Total Estimated Cost:** ₹1,65,000 - ₹2,00,000 INR.\n",
      "\n",
      "---\n",
      "\n",
      "### **Day-by-Day Itinerary**\n",
      "Here’s a suggested itinerary for your trip:\n",
      "\n",
      "#### **Day 1: Arrival in Tokyo**\n",
      "- Arrive at Narita/Haneda Airport.\n",
      "- Check into your hotel and freshen up.\n",
      "- Visit **Asakusa** and **Senso-ji Temple**.\n",
      "- Evening stroll at **Tokyo Skytree**.\n",
      "\n",
      "#### **Day 2: Exploring Central Tokyo**\n",
      "- Breakfast at a local café.\n",
      "- Visit **Shibuya Crossing** and take a walk around Shibuya.\n",
      "- Lunch at **Ichiran Shibuya**.\n",
      "- Explore **Harajuku** and Takeshita Street.\n",
      "- Evening at **Shinjuku Gyoen National Garden**.\n",
      "\n",
      "#### **Day 3: Cultural Experiences**\n",
      "- Morning visit to **Meiji Shrine**.\n",
      "- Explore **Aoyama** and Roppongi Hills.\n",
      "- Lunch at **Tofuya Ukai**.\n",
      "- Visit **Odaiba** for futuristic entertainment.\n",
      "- Dinner at **Tsukiji Fish Market**.\n",
      "\n",
      "#### **Day 4: Pop Culture and Technology**\n",
      "- Breakfast at a local sushi spot.\n",
      "- Visit **Akihabara** for electronics and anime.\n",
      "- Lunch at **Tsukemen Gyoza no Ohsho**.\n",
      "- Explore **Asakusa** and Ueno Park.\n",
      "- Evening at **Golden Gai** in Shinjuku.\n",
      "\n",
      "#### **Day 5: Day Trip to Nikko (Optional)**\n",
      "- Take a day trip to **Nikko** (UNESCO World Heritage Site).\n",
      "- Visit Toshogu Shrine and Kegon Falls.\n",
      "- Return to Tokyo in the evening.\n",
      "\n",
      "#### **Day 6: Theme Park Fun**\n",
      "- Spend the day at **Tokyo Disneyland** or **DisneySea**.\n",
      "- Enjoy rides, shows, and attractions.\n",
      "- Dinner at the theme park.\n",
      "\n",
      "#### **Day 7: Shopping and Departure**\n",
      "- Breakfast at your hotel.\n",
      "- Last-minute shopping at **Ginza** or **Roppongi**.\n",
      "- Check out of your hotel.\n",
      "- Depart for the airport.\n",
      "\n",
      "---\n",
      "\n",
      "### **Trip Summary**\n",
      "- **Destination:** Tokyo, Japan.\n",
      "- **Travel Dates:** July 16 to July 23, 2025.\n",
      "- **Travelers:** 6 people.\n",
      "- **Budget:** ₹200,000 INR.\n",
      "- **Weather:** Warm and humid with partially cloudy skies.\n",
      "- **Must-Visit Attractions:** Tokyo Skytree, Shibuya Crossing, Asakusa, Meiji Shrine, and Tsukiji Fish Market.\n",
      "\n",
      "Let me know if you’d like more details on any specific aspect of the trip!\n"
     ]
    }
   ],
   "source": [
    "for m in messages['messages']:\n",
    "    m.pretty_print()\n"
   ]
  },
  {
   "cell_type": "code",
   "execution_count": null,
   "id": "b6ae0840",
   "metadata": {},
   "outputs": [],
   "source": []
  }
 ],
 "metadata": {
  "kernelspec": {
   "display_name": ".venv",
   "language": "python",
   "name": "python3"
  },
  "language_info": {
   "codemirror_mode": {
    "name": "ipython",
    "version": 3
   },
   "file_extension": ".py",
   "mimetype": "text/x-python",
   "name": "python",
   "nbconvert_exporter": "python",
   "pygments_lexer": "ipython3",
   "version": "3.12.3"
  }
 },
 "nbformat": 4,
 "nbformat_minor": 5
}
